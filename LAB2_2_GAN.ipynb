{
  "nbformat": 4,
  "nbformat_minor": 0,
  "metadata": {
    "colab": {
      "name": "LAB2 2 GAN.ipynb",
      "provenance": [],
      "authorship_tag": "ABX9TyMpjt0I2CjSDomZcWjxLsme",
      "include_colab_link": true
    },
    "kernelspec": {
      "name": "python3",
      "display_name": "Python 3"
    },
    "language_info": {
      "name": "python"
    },
    "accelerator": "GPU",
    "gpuClass": "standard"
  },
  "cells": [
    {
      "cell_type": "markdown",
      "metadata": {
        "id": "view-in-github",
        "colab_type": "text"
      },
      "source": [
        "<a href=\"https://colab.research.google.com/github/Hameon4/Tensorflow-2.0-Practice/blob/main/LAB2_2_GAN.ipynb\" target=\"_parent\"><img src=\"https://colab.research.google.com/assets/colab-badge.svg\" alt=\"Open In Colab\"/></a>"
      ]
    },
    {
      "cell_type": "code",
      "source": [
        "!wget https://raw.githubusercontent.com/Hameon4/Exfiltration-dataset/main/exfil_monogram.csv"
      ],
      "metadata": {
        "id": "OFfCe2HJ6TBP"
      },
      "execution_count": null,
      "outputs": []
    },
    {
      "cell_type": "code",
      "source": [
        "!pip install ctgan\n",
        "!pip install table_evaluator"
      ],
      "metadata": {
        "id": "36EMp38C6jL1"
      },
      "execution_count": null,
      "outputs": []
    },
    {
      "cell_type": "code",
      "source": [
        "import pandas as pd \n",
        "data = pd.read_csv('/content/exfil_monogram.csv')\n",
        "data = data.drop(columns = ['Label'])"
      ],
      "metadata": {
        "id": "8jdqvBC36p8F"
      },
      "execution_count": 3,
      "outputs": []
    },
    {
      "cell_type": "code",
      "source": [
        "# Defining a list to pass to the model\n",
        "categorical_features = [data.columns[i] for i in range(len(data.columns))]"
      ],
      "metadata": {
        "id": "xibdXKyZ7aWc"
      },
      "execution_count": 4,
      "outputs": []
    },
    {
      "cell_type": "code",
      "source": [
        "# Train the model \n",
        "from ctgan import CTGANSynthesizer\n",
        "\n",
        "ctgan = CTGANSynthesizer(verbose=True)\n",
        "ctgan.fit(data, categorical_features, epochs = 20)"
      ],
      "metadata": {
        "colab": {
          "base_uri": "https://localhost:8080/"
        },
        "id": "QgoMFcR48aZW",
        "outputId": "9df4cceb-6422-45a1-d7d3-ca57a645fd98"
      },
      "execution_count": 5,
      "outputs": [
        {
          "output_type": "stream",
          "name": "stderr",
          "text": [
            "/usr/local/lib/python3.7/dist-packages/pandas/core/frame.py:3678: PerformanceWarning: DataFrame is highly fragmented.  This is usually the result of calling `frame.insert` many times, which has poor performance.  Consider joining all columns at once using pd.concat(axis=1) instead.  To get a de-fragmented frame, use `newframe = frame.copy()`\n",
            "  self[col] = igetitem(value, i)\n"
          ]
        },
        {
          "output_type": "stream",
          "name": "stdout",
          "text": [
            "Epoch 1, Loss G:  5.5117,Loss D: -7.0452\n",
            "Epoch 2, Loss G:  3.1563,Loss D: -15.5744\n",
            "Epoch 3, Loss G: -3.4036,Loss D: -14.0647\n",
            "Epoch 4, Loss G: -7.6994,Loss D: -10.2549\n",
            "Epoch 5, Loss G: -8.8790,Loss D: -5.3425\n",
            "Epoch 6, Loss G: -9.1807,Loss D: -3.5605\n",
            "Epoch 7, Loss G: -9.2275,Loss D: -1.8244\n",
            "Epoch 8, Loss G: -7.5351,Loss D:  0.0494\n",
            "Epoch 9, Loss G: -5.1148,Loss D:  0.6289\n",
            "Epoch 10, Loss G: -4.7322,Loss D: -0.2491\n",
            "Epoch 11, Loss G: -2.8186,Loss D: -0.5558\n",
            "Epoch 12, Loss G: -4.3923,Loss D:  0.5691\n",
            "Epoch 13, Loss G: -2.8687,Loss D: -0.4818\n",
            "Epoch 14, Loss G: -3.3528,Loss D: -0.9775\n",
            "Epoch 15, Loss G: -3.3816,Loss D: -0.1535\n",
            "Epoch 16, Loss G: -4.6985,Loss D:  0.3650\n",
            "Epoch 17, Loss G: -5.1676,Loss D:  0.1369\n",
            "Epoch 18, Loss G: -4.5494,Loss D:  1.1003\n",
            "Epoch 19, Loss G: -4.1428,Loss D:  0.4003\n",
            "Epoch 20, Loss G: -2.7049,Loss D:  0.1215\n"
          ]
        }
      ]
    }
  ]
}
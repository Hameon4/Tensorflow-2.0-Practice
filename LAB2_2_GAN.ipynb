{
  "nbformat": 4,
  "nbformat_minor": 0,
  "metadata": {
    "colab": {
      "name": "LAB2 2 GAN.ipynb",
      "provenance": [],
      "authorship_tag": "ABX9TyOIE/1sYpYpn8FokhuiX9VZ",
      "include_colab_link": true
    },
    "kernelspec": {
      "name": "python3",
      "display_name": "Python 3"
    },
    "language_info": {
      "name": "python"
    },
    "gpuClass": "standard",
    "accelerator": "GPU"
  },
  "cells": [
    {
      "cell_type": "markdown",
      "metadata": {
        "id": "view-in-github",
        "colab_type": "text"
      },
      "source": [
        "<a href=\"https://colab.research.google.com/github/Hameon4/Tensorflow-2.0-Practice/blob/main/LAB2_2_GAN.ipynb\" target=\"_parent\"><img src=\"https://colab.research.google.com/assets/colab-badge.svg\" alt=\"Open In Colab\"/></a>"
      ]
    },
    {
      "cell_type": "code",
      "source": [
        "!wget https://raw.githubusercontent.com/Hameon4/Exfiltration-dataset/main/exfil_monogram.csv"
      ],
      "metadata": {
        "id": "OFfCe2HJ6TBP"
      },
      "execution_count": null,
      "outputs": []
    },
    {
      "cell_type": "code",
      "source": [
        "!pip install ctgan\n",
        "!pip install table_evaluator"
      ],
      "metadata": {
        "id": "36EMp38C6jL1"
      },
      "execution_count": null,
      "outputs": []
    },
    {
      "cell_type": "code",
      "source": [
        "import pandas as pd \n",
        "data = pd.read_csv('/content/exfil_monogram.csv')\n",
        "data = data.drop(columns = ['Label'])"
      ],
      "metadata": {
        "id": "8jdqvBC36p8F"
      },
      "execution_count": 8,
      "outputs": []
    },
    {
      "cell_type": "code",
      "source": [
        "# Defining a list to pass to the model\n",
        "categorical_features = [data.columns[i] for i in range(len(data.columns))]"
      ],
      "metadata": {
        "id": "xibdXKyZ7aWc"
      },
      "execution_count": 9,
      "outputs": []
    },
    {
      "cell_type": "code",
      "source": [
        "# Train the model \n",
        "from ctgan import CTGANSynthesizer\n",
        "\n",
        "ctgan = CTGANSynthesizer(verbose=True)\n",
        "ctgan.fit(data, categorical_features, epochs = 10)"
      ],
      "metadata": {
        "colab": {
          "base_uri": "https://localhost:8080/"
        },
        "id": "QgoMFcR48aZW",
        "outputId": "556c16e0-82a7-4029-aff8-130023cfefed"
      },
      "execution_count": 10,
      "outputs": [
        {
          "output_type": "stream",
          "name": "stderr",
          "text": [
            "/usr/local/lib/python3.7/dist-packages/pandas/core/frame.py:3678: PerformanceWarning: DataFrame is highly fragmented.  This is usually the result of calling `frame.insert` many times, which has poor performance.  Consider joining all columns at once using pd.concat(axis=1) instead.  To get a de-fragmented frame, use `newframe = frame.copy()`\n",
            "  self[col] = igetitem(value, i)\n"
          ]
        },
        {
          "output_type": "stream",
          "name": "stdout",
          "text": [
            "Epoch 1, Loss G:  5.9748,Loss D: -7.7231\n",
            "Epoch 2, Loss G:  3.0625,Loss D: -15.1620\n",
            "Epoch 3, Loss G: -3.1482,Loss D: -14.1618\n",
            "Epoch 4, Loss G: -5.9878,Loss D: -8.6359\n",
            "Epoch 5, Loss G: -8.2173,Loss D: -7.9034\n",
            "Epoch 6, Loss G: -8.7965,Loss D: -4.2698\n",
            "Epoch 7, Loss G: -7.9312,Loss D: -1.4650\n",
            "Epoch 8, Loss G: -6.5746,Loss D: -0.5707\n",
            "Epoch 9, Loss G: -5.7281,Loss D:  0.8537\n",
            "Epoch 10, Loss G: -5.0162,Loss D: -0.8665\n"
          ]
        }
      ]
    },
    {
      "cell_type": "code",
      "source": [
        "# Evaluation/ Generating Synthetic Samples \n",
        "samples = ctgan.sample(1000)\n",
        "\n",
        "print(samples.head())"
      ],
      "metadata": {
        "colab": {
          "base_uri": "https://localhost:8080/"
        },
        "id": "8G3MRF5CDkIt",
        "outputId": "b5cea9c5-7444-4b89-b345-7f317b6f3c03"
      },
      "execution_count": 11,
      "outputs": [
        {
          "output_type": "stream",
          "name": "stdout",
          "text": [
            "   epoll_pwait  futex  getuid  ioctl  read  mprotect  write  clock_gettime  \\\n",
            "0         1394    534       0    561  2871        32   2026           1416   \n",
            "1         1489   1219    2946    591     4        53      7          54320   \n",
            "2          314   6084     369   1211  2814        24   1244              0   \n",
            "3          946   3204    4695    204  1244       176    991           1791   \n",
            "4            0     32       0    333    29        28   1134          58277   \n",
            "\n",
            "   madvise  writev  ...  fadvise64  personality  set_tls  capget  fstatfs64  \\\n",
            "0       70       9  ...          0            0        0       0          0   \n",
            "1       24      16  ...          0            0        0       0          0   \n",
            "2       18      14  ...          0            0        0       0          0   \n",
            "3       71     172  ...          0            0        0       0          0   \n",
            "4      312     289  ...          0            0        0       0          0   \n",
            "\n",
            "   getegid32  getgid32  getgroups32  ptrace  setsid  \n",
            "0          0         0            0       0       0  \n",
            "1          0         0            0       0       0  \n",
            "2          0         0            0       0       0  \n",
            "3          0         0            0       0       0  \n",
            "4          0         0            0       0       0  \n",
            "\n",
            "[5 rows x 120 columns]\n"
          ]
        }
      ]
    },
    {
      "cell_type": "code",
      "source": [
        ""
      ],
      "metadata": {
        "id": "f6eObfEvD7Qc"
      },
      "execution_count": null,
      "outputs": []
    }
  ]
}
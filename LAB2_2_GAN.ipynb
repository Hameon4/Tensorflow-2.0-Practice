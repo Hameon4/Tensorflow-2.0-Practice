{
  "nbformat": 4,
  "nbformat_minor": 0,
  "metadata": {
    "colab": {
      "name": "LAB2 2 GAN.ipynb",
      "provenance": [],
      "authorship_tag": "ABX9TyMFjIg5/ypxH4ic7WUkPmDd",
      "include_colab_link": true
    },
    "kernelspec": {
      "name": "python3",
      "display_name": "Python 3"
    },
    "language_info": {
      "name": "python"
    },
    "gpuClass": "standard",
    "accelerator": "GPU"
  },
  "cells": [
    {
      "cell_type": "markdown",
      "metadata": {
        "id": "view-in-github",
        "colab_type": "text"
      },
      "source": [
        "<a href=\"https://colab.research.google.com/github/Hameon4/Tensorflow-2.0-Practice/blob/main/LAB2_2_GAN.ipynb\" target=\"_parent\"><img src=\"https://colab.research.google.com/assets/colab-badge.svg\" alt=\"Open In Colab\"/></a>"
      ]
    },
    {
      "cell_type": "code",
      "source": [
        "!pip install ctgan\n",
        "!pip install table_evaluator"
      ],
      "metadata": {
        "id": "36EMp38C6jL1"
      },
      "execution_count": null,
      "outputs": []
    },
    {
      "cell_type": "code",
      "source": [
        "import pandas as pd \n",
        "data = pd.read_csv('/content/exfil_monogram.csv')"
      ],
      "metadata": {
        "id": "8jdqvBC36p8F"
      },
      "execution_count": 29,
      "outputs": []
    },
    {
      "cell_type": "code",
      "source": [
        "!pip install sdv"
      ],
      "metadata": {
        "id": "f6eObfEvD7Qc"
      },
      "execution_count": null,
      "outputs": []
    },
    {
      "cell_type": "code",
      "source": [
        "# Train the model\n",
        "from sdv.tabular import CTGAN\n",
        "model = CTGAN()\n",
        "model.fit(data)"
      ],
      "metadata": {
        "id": "XJxYg6fUH0JO"
      },
      "execution_count": null,
      "outputs": []
    },
    {
      "cell_type": "code",
      "source": [
        "# Get the sample / generating synthetic data from the model\n",
        "synthetic_data = model.sample(num_rows=200)"
      ],
      "metadata": {
        "id": "993euiJJJ5v0"
      },
      "execution_count": 31,
      "outputs": []
    },
    {
      "cell_type": "code",
      "source": [
        "# Merge fake table with original data\n",
        "malware_data = data.append(synthetic_data)"
      ],
      "metadata": {
        "id": "ZTeW9nYoKqhb"
      },
      "execution_count": 32,
      "outputs": []
    },
    {
      "cell_type": "code",
      "source": [
        "# Clarify row numbers\n",
        "print(data.shape)\n",
        "print(synthetic_data.shape)\n",
        "print(malware_data.shape)"
      ],
      "metadata": {
        "colab": {
          "base_uri": "https://localhost:8080/"
        },
        "id": "zJA8Qp67NlE_",
        "outputId": "bfb370b1-cc60-49e6-bac6-f4d33b689bc3"
      },
      "execution_count": 33,
      "outputs": [
        {
          "output_type": "stream",
          "name": "stdout",
          "text": [
            "(6141, 121)\n",
            "(200, 121)\n",
            "(6341, 121)\n"
          ]
        }
      ]
    },
    {
      "cell_type": "markdown",
      "source": [
        "### **PART 2 & 3: Retrain the Tensorflow model & Evaluate the model**"
      ],
      "metadata": {
        "id": "rKdbX-mnPfm5"
      }
    },
    {
      "cell_type": "code",
      "source": [
        "# Shuffle the rows \n",
        "shuffled_malware_data = malware_data.sample(frac=1)"
      ],
      "metadata": {
        "id": "BQPSfREEVQoC"
      },
      "execution_count": 38,
      "outputs": []
    },
    {
      "cell_type": "code",
      "source": [
        "# 1 - Split the 'malware_data' dataset\n",
        "from sklearn.model_selection import train_test_split\n",
        "\n",
        "X = shuffled_malware_data.drop(columns = ['Label']).copy()\n",
        "y = shuffled_malware_data['Label'] \n",
        "\n",
        "X_train, X_test, y_train, y_test = train_test_split(X, y, train_size=0.8)\n",
        "\n",
        "#Validation/test split \n",
        "X_valid, X__sub_test, y_valid, y_sub_test = train_test_split(X_test,y_test, test_size=0.5)"
      ],
      "metadata": {
        "id": "9bJMr4RkP-xw"
      },
      "execution_count": 46,
      "outputs": []
    },
    {
      "cell_type": "code",
      "source": [
        "D = shuffled_malware_data.shape"
      ],
      "metadata": {
        "id": "5dM6Qm20Tqus"
      },
      "execution_count": 47,
      "outputs": []
    },
    {
      "cell_type": "code",
      "source": [
        "import tensorflow as tf \n",
        "# Use the same model from lab 1\n",
        "# 2 - Build/Instantiate the model \n",
        "model_1 = tf.keras.models.Sequential([\n",
        "  tf.keras.layers.Input(shape=(120, 1)),\n",
        "  tf.keras.layers.Conv1D(1, 70, 5),\n",
        "  tf.keras.layers.MaxPool1D(),\n",
        "  tf.keras.layers.Flatten(name='regions'),\n",
        "  tf.keras.layers.Dense(1, activation='sigmoid'),\n",
        "])\n",
        "model_1.compile(optimizer='adam', loss='binary_crossentropy', metrics=['accuracy'])"
      ],
      "metadata": {
        "id": "gZ7Ng5_jV3Bi"
      },
      "execution_count": 48,
      "outputs": []
    },
    {
      "cell_type": "code",
      "source": [
        "model_1.summary()"
      ],
      "metadata": {
        "colab": {
          "base_uri": "https://localhost:8080/"
        },
        "id": "71S1dWDWXy0Q",
        "outputId": "435c5092-30a3-4f60-dbdd-0debb4737d5d"
      },
      "execution_count": 49,
      "outputs": [
        {
          "output_type": "stream",
          "name": "stdout",
          "text": [
            "Model: \"sequential_2\"\n",
            "_________________________________________________________________\n",
            " Layer (type)                Output Shape              Param #   \n",
            "=================================================================\n",
            " conv1d_2 (Conv1D)           (None, 11, 1)             71        \n",
            "                                                                 \n",
            " max_pooling1d_2 (MaxPooling  (None, 5, 1)             0         \n",
            " 1D)                                                             \n",
            "                                                                 \n",
            " regions (Flatten)           (None, 5)                 0         \n",
            "                                                                 \n",
            " dense_2 (Dense)             (None, 1)                 6         \n",
            "                                                                 \n",
            "=================================================================\n",
            "Total params: 77\n",
            "Trainable params: 77\n",
            "Non-trainable params: 0\n",
            "_________________________________________________________________\n"
          ]
        }
      ]
    },
    {
      "cell_type": "code",
      "source": [
        "#3 - Train the model \n",
        "r = model_1.fit(X_train, y_train, validation_data=(X_valid, y_valid), epochs=20)"
      ],
      "metadata": {
        "id": "UJpjX4a8X-Pk"
      },
      "execution_count": null,
      "outputs": []
    },
    {
      "cell_type": "code",
      "source": [
        "import matplotlib.pyplot as plt \n",
        "#4 - Plot loss per iteration\n",
        "plt.plot(r.history['loss'], label='loss')\n",
        "plt.plot(r.history['val_loss'], label='val_loss')\n",
        "plt.legend();"
      ],
      "metadata": {
        "colab": {
          "base_uri": "https://localhost:8080/",
          "height": 266
        },
        "id": "tXS18ru7ZTJ9",
        "outputId": "00a52548-924e-4a4a-f057-fc3afc56b23b"
      },
      "execution_count": 64,
      "outputs": [
        {
          "output_type": "display_data",
          "data": {
            "text/plain": [
              "<Figure size 432x288 with 1 Axes>"
            ],
            "image/png": "[encoded data removed]"
          },
          "metadata": {
            "needs_background": "light"
          }
        }
      ]
    },
    {
      "cell_type": "code",
      "source": [
        "plt.plot(r.history['accuracy'], label='acc')\n",
        "plt.plot(r.history['val_accuracy'], label='val_acc')\n",
        "plt.legend();"
      ],
      "metadata": {
        "colab": {
          "base_uri": "https://localhost:8080/",
          "height": 265
        },
        "id": "reFXIm1YtVS6",
        "outputId": "c26f5ba8-536c-45bf-bd83-7eda3671983d"
      },
      "execution_count": 91,
      "outputs": [
        {
          "output_type": "display_data",
          "data": {
            "text/plain": [
              "<Figure size 432x288 with 1 Axes>"
            ],
            "image/png": "[encoded data removed]"
          },
          "metadata": {
            "needs_background": "light"
          }
        }
      ]
    },
    {
      "cell_type": "code",
      "source": [
        "#5 - evaluate\n",
        "print(model.evaluate(X_valid, y_valid))"
      ],
      "metadata": {
        "colab": {
          "base_uri": "https://localhost:8080/"
        },
        "id": "AIYZg_pDcXVs",
        "outputId": "83292581-c0bc-45cd-d233-c1a42ea33152"
      },
      "execution_count": 65,
      "outputs": [
        {
          "output_type": "stream",
          "name": "stdout",
          "text": [
            "20/20 [==============================] - 0s 2ms/step - loss: 312.9296 - accuracy: 0.3770\n",
            "[312.92962646484375, 0.37697160243988037]\n"
          ]
        }
      ]
    },
    {
      "cell_type": "code",
      "source": [
        "#6 - Plot confusion matrix\n",
        "from sklearn.metrics import confusion_matrix, ConfusionMatrixDisplay, accuracy_score, precision_score, recall_score, f1_score\n",
        "\n",
        "p_test = model.predict(X_valid) > 0.5 # if less, benign, and malign vice versa\n",
        "cm = confusion_matrix(y_valid, p_test)\n",
        "disp = ConfusionMatrixDisplay(confusion_matrix=cm)\n",
        "disp.plot()\n",
        "plt.show()\n",
        "\n",
        "#7 - Print details\n",
        "print('\\n\\n\\n\\n')\n",
        "print(f'The accuracy is: {accuracy_score(y_valid, p_test)}')\n",
        "print(f'The precision is: {precision_score(y_valid, p_test, zero_division=1)}')\n",
        "print(f'The recall is: {recall_score(y_valid, p_test)}')\n",
        "print(f'The f1 score is: {f1_score(y_valid, p_test)}')"
      ],
      "metadata": {
        "colab": {
          "base_uri": "https://localhost:8080/",
          "height": 435
        },
        "id": "pFC-0dN7ceu2",
        "outputId": "9aca3a1b-425c-45ba-a77a-24b31b626455"
      },
      "execution_count": 70,
      "outputs": [
        {
          "output_type": "display_data",
          "data": {
            "text/plain": [
              "<Figure size 432x288 with 2 Axes>"
            ],
            "image/png": "[encoded data removed]"
          },
          "metadata": {
            "needs_background": "light"
          }
        },
        {
          "output_type": "stream",
          "name": "stdout",
          "text": [
            "\n",
            "\n",
            "\n",
            "\n",
            "\n",
            "The accuracy is: 0.37697160883280756\n",
            "The precision is: 0.3992467043314501\n",
            "The recall is: 0.7361111111111112\n",
            "The f1 score is: 0.5177045177045178\n"
          ]
        }
      ]
    },
    {
      "cell_type": "markdown",
      "source": [
        "### **4. Use SMOTE to Balance the Data**"
      ],
      "metadata": {
        "id": "L3Xod4M2e1J1"
      }
    },
    {
      "cell_type": "code",
      "source": [
        "from imblearn.over_sampling import SMOTE\n",
        "sm = SMOTE(random_state=42)\n",
        "X_res, y_res = sm.fit_resample(X, y)"
      ],
      "metadata": {
        "id": "jlO626-NfRm_"
      },
      "execution_count": 76,
      "outputs": []
    },
    {
      "cell_type": "code",
      "source": [
        "X_train, X_test, y_train, y_test = train_test_split(X_res, y_res, train_size=0.8)\n",
        "\n",
        "#Validation Split\n",
        "X_valid, X__sub_test, y_valid, y_sub_test = train_test_split(X_test,y_test, test_size=0.5)"
      ],
      "metadata": {
        "id": "sxOlsFoOoh4h"
      },
      "execution_count": 80,
      "outputs": []
    },
    {
      "cell_type": "code",
      "source": [
        "# Build/Instantiate the model \n",
        "model = tf.keras.models.Sequential([\n",
        "  tf.keras.layers.Input(shape=(120, 1)),\n",
        "  tf.keras.layers.Conv1D(1, 70, 5),\n",
        "  tf.keras.layers.MaxPool1D(),\n",
        "  tf.keras.layers.Flatten(name='regions'),\n",
        "  tf.keras.layers.Dense(1, activation='sigmoid'),\n",
        "])\n",
        "model.compile(optimizer='adam', loss='binary_crossentropy', metrics=['accuracy'])"
      ],
      "metadata": {
        "id": "4pzxyNDgrO5f"
      },
      "execution_count": 83,
      "outputs": []
    },
    {
      "cell_type": "code",
      "source": [
        "model.summary()"
      ],
      "metadata": {
        "colab": {
          "base_uri": "https://localhost:8080/"
        },
        "id": "MlgF0gBvriIC",
        "outputId": "4d32a013-cde6-4972-adce-40186b6d9345"
      },
      "execution_count": 85,
      "outputs": [
        {
          "output_type": "stream",
          "name": "stdout",
          "text": [
            "Model: \"sequential_5\"\n",
            "_________________________________________________________________\n",
            " Layer (type)                Output Shape              Param #   \n",
            "=================================================================\n",
            " conv1d_5 (Conv1D)           (None, 11, 1)             71        \n",
            "                                                                 \n",
            " max_pooling1d_5 (MaxPooling  (None, 5, 1)             0         \n",
            " 1D)                                                             \n",
            "                                                                 \n",
            " regions (Flatten)           (None, 5)                 0         \n",
            "                                                                 \n",
            " dense_5 (Dense)             (None, 1)                 6         \n",
            "                                                                 \n",
            "=================================================================\n",
            "Total params: 77\n",
            "Trainable params: 77\n",
            "Non-trainable params: 0\n",
            "_________________________________________________________________\n"
          ]
        }
      ]
    },
    {
      "cell_type": "code",
      "source": [
        "# Train the model \n",
        "r_smote = model.fit(X_train, y_train, validation_data=(X_valid, y_valid), epochs=20)"
      ],
      "metadata": {
        "id": "2jHJUC3OrmHA"
      },
      "execution_count": null,
      "outputs": []
    },
    {
      "cell_type": "code",
      "source": [
        "# Plot loss per iteration\n",
        "plt.plot(r_smote.history['loss'], label='loss')\n",
        "plt.plot(r_smote.history['val_loss'], label='val_loss')\n",
        "plt.legend();"
      ],
      "metadata": {
        "colab": {
          "base_uri": "https://localhost:8080/",
          "height": 265
        },
        "id": "D_ZoCUeqsPLQ",
        "outputId": "4c2cc700-1043-4baa-8bf0-c3c587e68d81"
      },
      "execution_count": 87,
      "outputs": [
        {
          "output_type": "display_data",
          "data": {
            "text/plain": [
              "<Figure size 432x288 with 1 Axes>"
            ],
            "image/png": "[encoded data removed]"
          },
          "metadata": {
            "needs_background": "light"
          }
        }
      ]
    },
    {
      "cell_type": "code",
      "source": [
        "# Plot accuracy per iteration \n",
        "plt.plot(r.history['accuracy'], label='acc')\n",
        "plt.plot(r.history['val_accuracy'], label='val_acc')\n",
        "plt.legend();"
      ],
      "metadata": {
        "colab": {
          "base_uri": "https://localhost:8080/",
          "height": 265
        },
        "id": "wOLRQtTUtL0D",
        "outputId": "42275143-db17-496d-e5ce-2734f8b3d95e"
      },
      "execution_count": 90,
      "outputs": [
        {
          "output_type": "display_data",
          "data": {
            "text/plain": [
              "<Figure size 432x288 with 1 Axes>"
            ],
            "image/png": "[encoded data removed]"
          },
          "metadata": {
            "needs_background": "light"
          }
        }
      ]
    },
    {
      "cell_type": "code",
      "source": [
        "#  evaluate\n",
        "print(model.evaluate(X_valid, y_valid))"
      ],
      "metadata": {
        "colab": {
          "base_uri": "https://localhost:8080/"
        },
        "id": "YzC7ZFqbsbBy",
        "outputId": "962b1744-6c80-4ecc-b950-f1ba36953ccb"
      },
      "execution_count": 88,
      "outputs": [
        {
          "output_type": "stream",
          "name": "stdout",
          "text": [
            "21/21 [==============================] - 0s 3ms/step - loss: 1.3457 - accuracy: 0.8987\n",
            "[1.3456956148147583, 0.8986586928367615]\n"
          ]
        }
      ]
    },
    {
      "cell_type": "code",
      "source": [
        ""
      ],
      "metadata": {
        "colab": {
          "base_uri": "https://localhost:8080/",
          "height": 435
        },
        "id": "3edUmJ-MseBD",
        "outputId": "2f727086-3168-4b92-c330-4863503bff83"
      },
      "execution_count": 89,
      "outputs": [
        {
          "output_type": "display_data",
          "data": {
            "text/plain": [
              "<Figure size 432x288 with 2 Axes>"
            ],
            "image/png": "[encoded data removed]"
          },
          "metadata": {
            "needs_background": "light"
          }
        },
        {
          "output_type": "stream",
          "name": "stdout",
          "text": [
            "\n",
            "\n",
            "\n",
            "\n",
            "\n",
            "The accuracy is: 0.8986587183308494\n",
            "The precision is: 0.8726790450928382\n",
            "The recall is: 0.9426934097421203\n",
            "The f1 score is: 0.9063360881542699\n"
          ]
        }
      ]
    }
  ]
}
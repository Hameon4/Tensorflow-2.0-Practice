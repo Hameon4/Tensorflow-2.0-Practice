{
  "nbformat": 4,
  "nbformat_minor": 0,
  "metadata": {
    "colab": {
      "name": "LAB 1 CNN.ipynb",
      "provenance": [],
      "authorship_tag": "ABX9TyP2rN5f1R6XQc8tkdPcZEl0",
      "include_colab_link": true
    },
    "kernelspec": {
      "name": "python3",
      "display_name": "Python 3"
    },
    "language_info": {
      "name": "python"
    }
  },
  "cells": [
    {
      "cell_type": "markdown",
      "metadata": {
        "id": "view-in-github",
        "colab_type": "text"
      },
      "source": [
        "<a href=\"https://colab.research.google.com/github/Hameon4/Tensorflow-2.0-Practice/blob/main/LAB_1_CNN.ipynb\" target=\"_parent\"><img src=\"https://colab.research.google.com/assets/colab-badge.svg\" alt=\"Open In Colab\"/></a>"
      ]
    },
    {
      "cell_type": "code",
      "execution_count": 1,
      "metadata": {
        "id": "cqG53AGS9RTF"
      },
      "outputs": [],
      "source": [
        "import tensorflow as tf\n",
        "import numpy as np\n",
        "import pandas as pd\n",
        "import matplotlib.pyplot as plt\n",
        "from sklearn.model_selection import train_test_split"
      ]
    },
    {
      "cell_type": "code",
      "source": [
        "# Load in the data \n",
        "df = pd.read_csv('/content/exfil_monogram.csv')"
      ],
      "metadata": {
        "id": "M-FWYZW0kq9N"
      },
      "execution_count": 4,
      "outputs": []
    },
    {
      "cell_type": "code",
      "source": [
        "df"
      ],
      "metadata": {
        "colab": {
          "base_uri": "https://localhost:8080/",
          "height": 488
        },
        "id": "dVp0DhVEOlKz",
        "outputId": "9b84e713-1968-4120-9e96-7175ebfbb1f7"
      },
      "execution_count": 5,
      "outputs": [
        {
          "output_type": "execute_result",
          "data": {
            "text/plain": [
              "      epoll_pwait  futex  getuid  ioctl  read  mprotect  write  clock_gettime  \\\n",
              "0             248    102     295    187    36        29    115             12   \n",
              "1             423    217     393    253   104        31    317             13   \n",
              "2              31     18      58     83     4         1      4              0   \n",
              "3              31     20      60     85     4         2      9              0   \n",
              "4              31     19      64     96     4         2      5              0   \n",
              "...           ...    ...     ...    ...   ...       ...    ...            ...   \n",
              "6136           61    103       0     35    48        12     70           1019   \n",
              "6137            2     33       1      1     3        15      2              0   \n",
              "6138          158     80       0    199    71        21     85           1146   \n",
              "6139           52     12       0     26    13         5     38            291   \n",
              "6140            0     23       0      0     2        10      2              0   \n",
              "\n",
              "      madvise  writev  ...  personality  set_tls  capget  fstatfs64  \\\n",
              "0         104      37  ...            0        0       0          0   \n",
              "1          17      38  ...            0        0       0          0   \n",
              "2           0       1  ...            0        0       0          0   \n",
              "3           0       1  ...            0        0       0          0   \n",
              "4           0       1  ...            0        0       0          0   \n",
              "...       ...     ...  ...          ...      ...     ...        ...   \n",
              "6136        1       5  ...            0        0       0          0   \n",
              "6137        2       0  ...            0        0       0          0   \n",
              "6138        4      10  ...            0        0       0          0   \n",
              "6139        1       5  ...            0        0       0          0   \n",
              "6140        2       0  ...            0        0       0          0   \n",
              "\n",
              "      getegid32  getgid32  getgroups32  ptrace  setsid  Label  \n",
              "0             0         0            0       0       0      0  \n",
              "1             0         0            0       0       0      0  \n",
              "2             0         0            0       0       0      0  \n",
              "3             0         0            0       0       0      0  \n",
              "4             0         0            0       0       0      0  \n",
              "...         ...       ...          ...     ...     ...    ...  \n",
              "6136          0         0            0       0       0      1  \n",
              "6137          0         0            0       0       0      1  \n",
              "6138          0         0            0       0       0      1  \n",
              "6139          0         0            0       0       0      1  \n",
              "6140          0         0            0       0       0      1  \n",
              "\n",
              "[6141 rows x 121 columns]"
            ],
            "text/html": [
              "\n",
              "  <div id=\"df-62a4c457-28a0-4dcd-8407-0dc81f30d7d5\">\n",
              "    <div class=\"colab-df-container\">\n",
              "      <div>\n",
              "<style scoped>\n",
              "    .dataframe tbody tr th:only-of-type {\n",
              "        vertical-align: middle;\n",
              "    }\n",
              "\n",
              "    .dataframe tbody tr th {\n",
              "        vertical-align: top;\n",
              "    }\n",
              "\n",
              "    .dataframe thead th {\n",
              "        text-align: right;\n",
              "    }\n",
              "</style>\n",
              "<table border=\"1\" class=\"dataframe\">\n",
              "  <thead>\n",
              "    <tr style=\"text-align: right;\">\n",
              "      <th></th>\n",
              "      <th>epoll_pwait</th>\n",
              "      <th>futex</th>\n",
              "      <th>getuid</th>\n",
              "      <th>ioctl</th>\n",
              "      <th>read</th>\n",
              "      <th>mprotect</th>\n",
              "      <th>write</th>\n",
              "      <th>clock_gettime</th>\n",
              "      <th>madvise</th>\n",
              "      <th>writev</th>\n",
              "      <th>...</th>\n",
              "      <th>personality</th>\n",
              "      <th>set_tls</th>\n",
              "      <th>capget</th>\n",
              "      <th>fstatfs64</th>\n",
              "      <th>getegid32</th>\n",
              "      <th>getgid32</th>\n",
              "      <th>getgroups32</th>\n",
              "      <th>ptrace</th>\n",
              "      <th>setsid</th>\n",
              "      <th>Label</th>\n",
              "    </tr>\n",
              "  </thead>\n",
              "  <tbody>\n",
              "    <tr>\n",
              "      <th>0</th>\n",
              "      <td>248</td>\n",
              "      <td>102</td>\n",
              "      <td>295</td>\n",
              "      <td>187</td>\n",
              "      <td>36</td>\n",
              "      <td>29</td>\n",
              "      <td>115</td>\n",
              "      <td>12</td>\n",
              "      <td>104</td>\n",
              "      <td>37</td>\n",
              "      <td>...</td>\n",
              "      <td>0</td>\n",
              "      <td>0</td>\n",
              "      <td>0</td>\n",
              "      <td>0</td>\n",
              "      <td>0</td>\n",
              "      <td>0</td>\n",
              "      <td>0</td>\n",
              "      <td>0</td>\n",
              "      <td>0</td>\n",
              "      <td>0</td>\n",
              "    </tr>\n",
              "    <tr>\n",
              "      <th>1</th>\n",
              "      <td>423</td>\n",
              "      <td>217</td>\n",
              "      <td>393</td>\n",
              "      <td>253</td>\n",
              "      <td>104</td>\n",
              "      <td>31</td>\n",
              "      <td>317</td>\n",
              "      <td>13</td>\n",
              "      <td>17</td>\n",
              "      <td>38</td>\n",
              "      <td>...</td>\n",
              "      <td>0</td>\n",
              "      <td>0</td>\n",
              "      <td>0</td>\n",
              "      <td>0</td>\n",
              "      <td>0</td>\n",
              "      <td>0</td>\n",
              "      <td>0</td>\n",
              "      <td>0</td>\n",
              "      <td>0</td>\n",
              "      <td>0</td>\n",
              "    </tr>\n",
              "    <tr>\n",
              "      <th>2</th>\n",
              "      <td>31</td>\n",
              "      <td>18</td>\n",
              "      <td>58</td>\n",
              "      <td>83</td>\n",
              "      <td>4</td>\n",
              "      <td>1</td>\n",
              "      <td>4</td>\n",
              "      <td>0</td>\n",
              "      <td>0</td>\n",
              "      <td>1</td>\n",
              "      <td>...</td>\n",
              "      <td>0</td>\n",
              "      <td>0</td>\n",
              "      <td>0</td>\n",
              "      <td>0</td>\n",
              "      <td>0</td>\n",
              "      <td>0</td>\n",
              "      <td>0</td>\n",
              "      <td>0</td>\n",
              "      <td>0</td>\n",
              "      <td>0</td>\n",
              "    </tr>\n",
              "    <tr>\n",
              "      <th>3</th>\n",
              "      <td>31</td>\n",
              "      <td>20</td>\n",
              "      <td>60</td>\n",
              "      <td>85</td>\n",
              "      <td>4</td>\n",
              "      <td>2</td>\n",
              "      <td>9</td>\n",
              "      <td>0</td>\n",
              "      <td>0</td>\n",
              "      <td>1</td>\n",
              "      <td>...</td>\n",
              "      <td>0</td>\n",
              "      <td>0</td>\n",
              "      <td>0</td>\n",
              "      <td>0</td>\n",
              "      <td>0</td>\n",
              "      <td>0</td>\n",
              "      <td>0</td>\n",
              "      <td>0</td>\n",
              "      <td>0</td>\n",
              "      <td>0</td>\n",
              "    </tr>\n",
              "    <tr>\n",
              "      <th>4</th>\n",
              "      <td>31</td>\n",
              "      <td>19</td>\n",
              "      <td>64</td>\n",
              "      <td>96</td>\n",
              "      <td>4</td>\n",
              "      <td>2</td>\n",
              "      <td>5</td>\n",
              "      <td>0</td>\n",
              "      <td>0</td>\n",
              "      <td>1</td>\n",
              "      <td>...</td>\n",
              "      <td>0</td>\n",
              "      <td>0</td>\n",
              "      <td>0</td>\n",
              "      <td>0</td>\n",
              "      <td>0</td>\n",
              "      <td>0</td>\n",
              "      <td>0</td>\n",
              "      <td>0</td>\n",
              "      <td>0</td>\n",
              "      <td>0</td>\n",
              "    </tr>\n",
              "    <tr>\n",
              "      <th>...</th>\n",
              "      <td>...</td>\n",
              "      <td>...</td>\n",
              "      <td>...</td>\n",
              "      <td>...</td>\n",
              "      <td>...</td>\n",
              "      <td>...</td>\n",
              "      <td>...</td>\n",
              "      <td>...</td>\n",
              "      <td>...</td>\n",
              "      <td>...</td>\n",
              "      <td>...</td>\n",
              "      <td>...</td>\n",
              "      <td>...</td>\n",
              "      <td>...</td>\n",
              "      <td>...</td>\n",
              "      <td>...</td>\n",
              "      <td>...</td>\n",
              "      <td>...</td>\n",
              "      <td>...</td>\n",
              "      <td>...</td>\n",
              "      <td>...</td>\n",
              "    </tr>\n",
              "    <tr>\n",
              "      <th>6136</th>\n",
              "      <td>61</td>\n",
              "      <td>103</td>\n",
              "      <td>0</td>\n",
              "      <td>35</td>\n",
              "      <td>48</td>\n",
              "      <td>12</td>\n",
              "      <td>70</td>\n",
              "      <td>1019</td>\n",
              "      <td>1</td>\n",
              "      <td>5</td>\n",
              "      <td>...</td>\n",
              "      <td>0</td>\n",
              "      <td>0</td>\n",
              "      <td>0</td>\n",
              "      <td>0</td>\n",
              "      <td>0</td>\n",
              "      <td>0</td>\n",
              "      <td>0</td>\n",
              "      <td>0</td>\n",
              "      <td>0</td>\n",
              "      <td>1</td>\n",
              "    </tr>\n",
              "    <tr>\n",
              "      <th>6137</th>\n",
              "      <td>2</td>\n",
              "      <td>33</td>\n",
              "      <td>1</td>\n",
              "      <td>1</td>\n",
              "      <td>3</td>\n",
              "      <td>15</td>\n",
              "      <td>2</td>\n",
              "      <td>0</td>\n",
              "      <td>2</td>\n",
              "      <td>0</td>\n",
              "      <td>...</td>\n",
              "      <td>0</td>\n",
              "      <td>0</td>\n",
              "      <td>0</td>\n",
              "      <td>0</td>\n",
              "      <td>0</td>\n",
              "      <td>0</td>\n",
              "      <td>0</td>\n",
              "      <td>0</td>\n",
              "      <td>0</td>\n",
              "      <td>1</td>\n",
              "    </tr>\n",
              "    <tr>\n",
              "      <th>6138</th>\n",
              "      <td>158</td>\n",
              "      <td>80</td>\n",
              "      <td>0</td>\n",
              "      <td>199</td>\n",
              "      <td>71</td>\n",
              "      <td>21</td>\n",
              "      <td>85</td>\n",
              "      <td>1146</td>\n",
              "      <td>4</td>\n",
              "      <td>10</td>\n",
              "      <td>...</td>\n",
              "      <td>0</td>\n",
              "      <td>0</td>\n",
              "      <td>0</td>\n",
              "      <td>0</td>\n",
              "      <td>0</td>\n",
              "      <td>0</td>\n",
              "      <td>0</td>\n",
              "      <td>0</td>\n",
              "      <td>0</td>\n",
              "      <td>1</td>\n",
              "    </tr>\n",
              "    <tr>\n",
              "      <th>6139</th>\n",
              "      <td>52</td>\n",
              "      <td>12</td>\n",
              "      <td>0</td>\n",
              "      <td>26</td>\n",
              "      <td>13</td>\n",
              "      <td>5</td>\n",
              "      <td>38</td>\n",
              "      <td>291</td>\n",
              "      <td>1</td>\n",
              "      <td>5</td>\n",
              "      <td>...</td>\n",
              "      <td>0</td>\n",
              "      <td>0</td>\n",
              "      <td>0</td>\n",
              "      <td>0</td>\n",
              "      <td>0</td>\n",
              "      <td>0</td>\n",
              "      <td>0</td>\n",
              "      <td>0</td>\n",
              "      <td>0</td>\n",
              "      <td>1</td>\n",
              "    </tr>\n",
              "    <tr>\n",
              "      <th>6140</th>\n",
              "      <td>0</td>\n",
              "      <td>23</td>\n",
              "      <td>0</td>\n",
              "      <td>0</td>\n",
              "      <td>2</td>\n",
              "      <td>10</td>\n",
              "      <td>2</td>\n",
              "      <td>0</td>\n",
              "      <td>2</td>\n",
              "      <td>0</td>\n",
              "      <td>...</td>\n",
              "      <td>0</td>\n",
              "      <td>0</td>\n",
              "      <td>0</td>\n",
              "      <td>0</td>\n",
              "      <td>0</td>\n",
              "      <td>0</td>\n",
              "      <td>0</td>\n",
              "      <td>0</td>\n",
              "      <td>0</td>\n",
              "      <td>1</td>\n",
              "    </tr>\n",
              "  </tbody>\n",
              "</table>\n",
              "<p>6141 rows × 121 columns</p>\n",
              "</div>\n",
              "      <button class=\"colab-df-convert\" onclick=\"convertToInteractive('df-62a4c457-28a0-4dcd-8407-0dc81f30d7d5')\"\n",
              "              title=\"Convert this dataframe to an interactive table.\"\n",
              "              style=\"display:none;\">\n",
              "        \n",
              "  <svg xmlns=\"http://www.w3.org/2000/svg\" height=\"24px\"viewBox=\"0 0 24 24\"\n",
              "       width=\"24px\">\n",
              "    <path d=\"M0 0h24v24H0V0z\" fill=\"none\"/>\n",
              "    <path d=\"M18.56 5.44l.94 2.06.94-2.06 2.06-.94-2.06-.94-.94-2.06-.94 2.06-2.06.94zm-11 1L8.5 8.5l.94-2.06 2.06-.94-2.06-.94L8.5 2.5l-.94 2.06-2.06.94zm10 10l.94 2.06.94-2.06 2.06-.94-2.06-.94-.94-2.06-.94 2.06-2.06.94z\"/><path d=\"M17.41 7.96l-1.37-1.37c-.4-.4-.92-.59-1.43-.59-.52 0-1.04.2-1.43.59L10.3 9.45l-7.72 7.72c-.78.78-.78 2.05 0 2.83L4 21.41c.39.39.9.59 1.41.59.51 0 1.02-.2 1.41-.59l7.78-7.78 2.81-2.81c.8-.78.8-2.07 0-2.86zM5.41 20L4 18.59l7.72-7.72 1.47 1.35L5.41 20z\"/>\n",
              "  </svg>\n",
              "      </button>\n",
              "      \n",
              "  <style>\n",
              "    .colab-df-container {\n",
              "      display:flex;\n",
              "      flex-wrap:wrap;\n",
              "      gap: 12px;\n",
              "    }\n",
              "\n",
              "    .colab-df-convert {\n",
              "      background-color: #E8F0FE;\n",
              "      border: none;\n",
              "      border-radius: 50%;\n",
              "      cursor: pointer;\n",
              "      display: none;\n",
              "      fill: #1967D2;\n",
              "      height: 32px;\n",
              "      padding: 0 0 0 0;\n",
              "      width: 32px;\n",
              "    }\n",
              "\n",
              "    .colab-df-convert:hover {\n",
              "      background-color: #E2EBFA;\n",
              "      box-shadow: 0px 1px 2px rgba(60, 64, 67, 0.3), 0px 1px 3px 1px rgba(60, 64, 67, 0.15);\n",
              "      fill: #174EA6;\n",
              "    }\n",
              "\n",
              "    [theme=dark] .colab-df-convert {\n",
              "      background-color: #3B4455;\n",
              "      fill: #D2E3FC;\n",
              "    }\n",
              "\n",
              "    [theme=dark] .colab-df-convert:hover {\n",
              "      background-color: #434B5C;\n",
              "      box-shadow: 0px 1px 3px 1px rgba(0, 0, 0, 0.15);\n",
              "      filter: drop-shadow(0px 1px 2px rgba(0, 0, 0, 0.3));\n",
              "      fill: #FFFFFF;\n",
              "    }\n",
              "  </style>\n",
              "\n",
              "      <script>\n",
              "        const buttonEl =\n",
              "          document.querySelector('#df-62a4c457-28a0-4dcd-8407-0dc81f30d7d5 button.colab-df-convert');\n",
              "        buttonEl.style.display =\n",
              "          google.colab.kernel.accessAllowed ? 'block' : 'none';\n",
              "\n",
              "        async function convertToInteractive(key) {\n",
              "          const element = document.querySelector('#df-62a4c457-28a0-4dcd-8407-0dc81f30d7d5');\n",
              "          const dataTable =\n",
              "            await google.colab.kernel.invokeFunction('convertToInteractive',\n",
              "                                                     [key], {});\n",
              "          if (!dataTable) return;\n",
              "\n",
              "          const docLinkHtml = 'Like what you see? Visit the ' +\n",
              "            '<a target=\"_blank\" href=https://colab.research.google.com/notebooks/data_table.ipynb>data table notebook</a>'\n",
              "            + ' to learn more about interactive tables.';\n",
              "          element.innerHTML = '';\n",
              "          dataTable['output_type'] = 'display_data';\n",
              "          await google.colab.output.renderOutput(dataTable, element);\n",
              "          const docLink = document.createElement('div');\n",
              "          docLink.innerHTML = docLinkHtml;\n",
              "          element.appendChild(docLink);\n",
              "        }\n",
              "      </script>\n",
              "    </div>\n",
              "  </div>\n",
              "  "
            ]
          },
          "metadata": {},
          "execution_count": 5
        }
      ]
    },
    {
      "cell_type": "code",
      "source": [
        "X = df.drop(columns = ['Label']).copy()\n",
        "y = df['Label']\n",
        "\n",
        "X_train, X_test, y_train, y_test = train_test_split(X, y, train_size=0.8)\n",
        "\n",
        "#Validation SPlit\n",
        "X_valid, X__sub_test, y_valid, y_sub_test = train_test_split(X_test,y_test, test_size=0.5)"
      ],
      "metadata": {
        "id": "zBxi53HM9zss"
      },
      "execution_count": 6,
      "outputs": []
    },
    {
      "cell_type": "code",
      "source": [
        "D = df.shape"
      ],
      "metadata": {
        "id": "uqNIzyu208Pd"
      },
      "execution_count": 7,
      "outputs": []
    },
    {
      "cell_type": "code",
      "source": [
        "# 2 - Build/Instantiate the model \n",
        "model = tf.keras.models.Sequential([\n",
        "  tf.keras.layers.Input(shape=(120, 1)),\n",
        "  tf.keras.layers.Conv1D(1, 70, 5),\n",
        "  tf.keras.layers.MaxPool1D(),\n",
        "  tf.keras.layers.Flatten(name='regions'),\n",
        "  tf.keras.layers.Dense(1, activation='sigmoid'),\n",
        "])\n",
        "model.compile(optimizer='adam', loss='binary_crossentropy', metrics=['accuracy'])"
      ],
      "metadata": {
        "id": "JQ9ichdcOnt1"
      },
      "execution_count": 14,
      "outputs": []
    },
    {
      "cell_type": "code",
      "source": [
        "model.summary()"
      ],
      "metadata": {
        "colab": {
          "base_uri": "https://localhost:8080/"
        },
        "id": "MtBw1EdmOxf9",
        "outputId": "77b79db3-b544-4df1-d13e-371d69809556"
      },
      "execution_count": 15,
      "outputs": [
        {
          "output_type": "stream",
          "name": "stdout",
          "text": [
            "Model: \"sequential_1\"\n",
            "_________________________________________________________________\n",
            " Layer (type)                Output Shape              Param #   \n",
            "=================================================================\n",
            " conv1d_1 (Conv1D)           (None, 11, 1)             71        \n",
            "                                                                 \n",
            " max_pooling1d_1 (MaxPooling  (None, 5, 1)             0         \n",
            " 1D)                                                             \n",
            "                                                                 \n",
            " regions (Flatten)           (None, 5)                 0         \n",
            "                                                                 \n",
            " dense_1 (Dense)             (None, 1)                 6         \n",
            "                                                                 \n",
            "=================================================================\n",
            "Total params: 77\n",
            "Trainable params: 77\n",
            "Non-trainable params: 0\n",
            "_________________________________________________________________\n"
          ]
        }
      ]
    },
    {
      "cell_type": "code",
      "source": [
        "# Train the model \n",
        "r = model.fit(X_train, y_train, validation_data=(X_valid, y_valid), epochs=25)"
      ],
      "metadata": {
        "colab": {
          "base_uri": "https://localhost:8080/"
        },
        "id": "L4Rd8a23O8SB",
        "outputId": "a0367483-4a61-4354-e7ef-a4a6036bb14b"
      },
      "execution_count": 17,
      "outputs": [
        {
          "output_type": "stream",
          "name": "stdout",
          "text": [
            "Epoch 1/25\n",
            "154/154 [==============================] - 0s 2ms/step - loss: 0.3141 - accuracy: 0.9210 - val_loss: 0.3050 - val_accuracy: 0.9202\n",
            "Epoch 2/25\n",
            "154/154 [==============================] - 0s 2ms/step - loss: 0.3323 - accuracy: 0.9175 - val_loss: 0.2508 - val_accuracy: 0.9007\n",
            "Epoch 3/25\n",
            "154/154 [==============================] - 0s 2ms/step - loss: 0.3094 - accuracy: 0.9202 - val_loss: 0.3417 - val_accuracy: 0.9055\n",
            "Epoch 4/25\n",
            "154/154 [==============================] - 0s 2ms/step - loss: 0.2524 - accuracy: 0.9247 - val_loss: 0.2275 - val_accuracy: 0.9186\n",
            "Epoch 5/25\n",
            "154/154 [==============================] - 0s 2ms/step - loss: 0.3253 - accuracy: 0.9216 - val_loss: 0.1963 - val_accuracy: 0.9235\n",
            "Epoch 6/25\n",
            "154/154 [==============================] - 0s 2ms/step - loss: 0.2086 - accuracy: 0.9361 - val_loss: 0.2110 - val_accuracy: 0.9300\n",
            "Epoch 7/25\n",
            "154/154 [==============================] - 0s 2ms/step - loss: 0.2157 - accuracy: 0.9344 - val_loss: 0.2074 - val_accuracy: 0.9365\n",
            "Epoch 8/25\n",
            "154/154 [==============================] - 0s 2ms/step - loss: 0.2382 - accuracy: 0.9269 - val_loss: 0.2079 - val_accuracy: 0.9121\n",
            "Epoch 9/25\n",
            "154/154 [==============================] - 0s 2ms/step - loss: 0.1908 - accuracy: 0.9359 - val_loss: 0.1747 - val_accuracy: 0.9332\n",
            "Epoch 10/25\n",
            "154/154 [==============================] - 0s 2ms/step - loss: 0.2125 - accuracy: 0.9430 - val_loss: 0.2062 - val_accuracy: 0.9202\n",
            "Epoch 11/25\n",
            "154/154 [==============================] - 0s 2ms/step - loss: 0.1972 - accuracy: 0.9373 - val_loss: 0.1805 - val_accuracy: 0.9235\n",
            "Epoch 12/25\n",
            "154/154 [==============================] - 0s 2ms/step - loss: 0.1971 - accuracy: 0.9428 - val_loss: 0.2069 - val_accuracy: 0.9153\n",
            "Epoch 13/25\n",
            "154/154 [==============================] - 0s 2ms/step - loss: 0.2150 - accuracy: 0.9420 - val_loss: 0.1980 - val_accuracy: 0.9267\n",
            "Epoch 14/25\n",
            "154/154 [==============================] - 0s 2ms/step - loss: 0.2684 - accuracy: 0.9340 - val_loss: 0.1750 - val_accuracy: 0.9446\n",
            "Epoch 15/25\n",
            "154/154 [==============================] - 0s 2ms/step - loss: 0.1799 - accuracy: 0.9442 - val_loss: 0.1749 - val_accuracy: 0.9397\n",
            "Epoch 16/25\n",
            "154/154 [==============================] - 0s 2ms/step - loss: 0.1969 - accuracy: 0.9399 - val_loss: 0.1758 - val_accuracy: 0.9430\n",
            "Epoch 17/25\n",
            "154/154 [==============================] - 0s 2ms/step - loss: 0.2103 - accuracy: 0.9442 - val_loss: 0.1796 - val_accuracy: 0.9349\n",
            "Epoch 18/25\n",
            "154/154 [==============================] - 0s 2ms/step - loss: 0.1761 - accuracy: 0.9513 - val_loss: 0.1736 - val_accuracy: 0.9414\n",
            "Epoch 19/25\n",
            "154/154 [==============================] - 0s 2ms/step - loss: 0.1828 - accuracy: 0.9442 - val_loss: 0.1674 - val_accuracy: 0.9446\n",
            "Epoch 20/25\n",
            "154/154 [==============================] - 0s 2ms/step - loss: 0.2185 - accuracy: 0.9389 - val_loss: 0.3081 - val_accuracy: 0.9169\n",
            "Epoch 21/25\n",
            "154/154 [==============================] - 0s 2ms/step - loss: 0.1976 - accuracy: 0.9424 - val_loss: 0.1623 - val_accuracy: 0.9528\n",
            "Epoch 22/25\n",
            "154/154 [==============================] - 0s 2ms/step - loss: 0.1837 - accuracy: 0.9420 - val_loss: 0.1748 - val_accuracy: 0.9495\n",
            "Epoch 23/25\n",
            "154/154 [==============================] - 0s 2ms/step - loss: 0.1999 - accuracy: 0.9456 - val_loss: 0.2265 - val_accuracy: 0.9349\n",
            "Epoch 24/25\n",
            "154/154 [==============================] - 0s 2ms/step - loss: 0.1728 - accuracy: 0.9495 - val_loss: 0.1663 - val_accuracy: 0.9430\n",
            "Epoch 25/25\n",
            "154/154 [==============================] - 0s 2ms/step - loss: 0.1650 - accuracy: 0.9489 - val_loss: 0.1635 - val_accuracy: 0.9495\n"
          ]
        }
      ]
    },
    {
      "cell_type": "code",
      "source": [
        "# Plot loss per iteration\n",
        "plt.plot(r.history['loss'], label='loss')\n",
        "plt.plot(r.history['val_loss'], label='val_loss')\n",
        "plt.legend();"
      ],
      "metadata": {
        "colab": {
          "base_uri": "https://localhost:8080/",
          "height": 269
        },
        "id": "pVorACKXPHaf",
        "outputId": "6b4d7438-30da-45cc-b328-8aeba0b6134d"
      },
      "execution_count": 19,
      "outputs": [
        {
          "output_type": "display_data",
          "data": {
            "text/plain": [
              "<Figure size 432x288 with 1 Axes>"
            ],
            "image/png": "[encoded data removed]"
          },
          "metadata": {
            "needs_background": "light"
          }
        }
      ]
    },
    {
      "cell_type": "code",
      "source": [
        "# Plot the accuracy per iteration\n",
        "plt.plot(r.history['accuracy'], label='acc')\n",
        "plt.plot(r.history['val_accuracy'], label='val_acc')\n",
        "plt.legend();"
      ],
      "metadata": {
        "id": "RY-z3D2NHdWR",
        "outputId": "c94341fe-bf54-41c2-c65d-8f6486d2e716",
        "colab": {
          "base_uri": "https://localhost:8080/",
          "height": 265
        }
      },
      "execution_count": 20,
      "outputs": [
        {
          "output_type": "display_data",
          "data": {
            "text/plain": [
              "<Figure size 432x288 with 1 Axes>"
            ],
            "image/png": "[encoded data removed]"
          },
          "metadata": {
            "needs_background": "light"
          }
        }
      ]
    },
    {
      "cell_type": "code",
      "source": [
        "#  evaluate\n",
        "print(model.evaluate(X_valid, y_valid))"
      ],
      "metadata": {
        "colab": {
          "base_uri": "https://localhost:8080/"
        },
        "id": "KmSyIa_2Gg5u",
        "outputId": "7ca31a12-cae2-4d9a-a564-2fd0e0734ffa"
      },
      "execution_count": 21,
      "outputs": [
        {
          "output_type": "stream",
          "name": "stdout",
          "text": [
            "20/20 [==============================] - 0s 1ms/step - loss: 0.1635 - accuracy: 0.9495\n",
            "[0.1635097861289978, 0.9495114088058472]\n"
          ]
        }
      ]
    },
    {
      "cell_type": "code",
      "source": [
        "# Plot confusion matrix\n",
        "from sklearn.metrics import confusion_matrix, ConfusionMatrixDisplay, accuracy_score, precision_score, recall_score, f1_score\n",
        "\n",
        "p_test = model.predict(X_valid) > 0.5 # if less, benign, and malign vice versa\n",
        "cm = confusion_matrix(y_valid, p_test)\n",
        "disp = ConfusionMatrixDisplay(confusion_matrix=cm)\n",
        "disp.plot()\n",
        "plt.show()\n",
        "\n",
        "# Print details\n",
        "print('\\n\\n\\n\\n')\n",
        "print(f'The accuracy is: {accuracy_score(y_valid, p_test)}')\n",
        "print(f'The precision is: {precision_score(y_valid, p_test, zero_division=1)}')\n",
        "print(f'The recall is: {recall_score(y_valid, p_test)}')\n",
        "print(f'The f1 score is: {f1_score(y_valid, p_test)}')"
      ],
      "metadata": {
        "id": "IJNqfuSAH15k",
        "outputId": "9c15a225-b3ba-411d-8c6f-3d3d1b7391d1",
        "colab": {
          "base_uri": "https://localhost:8080/",
          "height": 439
        }
      },
      "execution_count": 22,
      "outputs": [
        {
          "output_type": "display_data",
          "data": {
            "text/plain": [
              "<Figure size 432x288 with 2 Axes>"
            ],
            "image/png": "[encoded data removed]"
          },
          "metadata": {
            "needs_background": "light"
          }
        },
        {
          "output_type": "stream",
          "name": "stdout",
          "text": [
            "\n",
            "\n",
            "\n",
            "\n",
            "\n",
            "The accuracy is: 0.9495114006514658\n",
            "The precision is: 0.9435736677115988\n",
            "The recall is: 0.9585987261146497\n",
            "The f1 score is: 0.9510268562401264\n"
          ]
        }
      ]
    },
    {
      "cell_type": "code",
      "source": [
        "# Dimensionality reduction with PCA\n",
        "from sklearn.decomposition import PCA\n",
        "\n",
        "pca = PCA(n_components=20)\n",
        "pca.fit(X_valid)\n",
        "plt.axhline(y=0.05, color='r', linestyle='-')\n",
        "plt.plot(pca.explained_variance_ratio_);\n",
        "plt.xticks(np.arange(1, 21));"
      ],
      "metadata": {
        "colab": {
          "base_uri": "https://localhost:8080/",
          "height": 265
        },
        "id": "U3p-yDFDeTrJ",
        "outputId": "f91eacda-e867-41ce-c9f0-d3ec17c01bf7"
      },
      "execution_count": 23,
      "outputs": [
        {
          "output_type": "display_data",
          "data": {
            "text/plain": [
              "<Figure size 432x288 with 1 Axes>"
            ],
            "image/png": "[encoded data removed]"
          },
          "metadata": {
            "needs_background": "light"
          }
        }
      ]
    },
    {
      "cell_type": "markdown",
      "source": [
        "Number of features of the 95% explained variance is 1"
      ],
      "metadata": {
        "id": "kyG5Qa6fpdCo"
      }
    }
  ]
}
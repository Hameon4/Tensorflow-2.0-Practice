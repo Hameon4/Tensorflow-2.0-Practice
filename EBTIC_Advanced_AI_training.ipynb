{
  "nbformat": 4,
  "nbformat_minor": 0,
  "metadata": {
    "colab": {
      "name": "EBTIC Advanced AI training.ipynb",
      "provenance": [],
      "authorship_tag": "ABX9TyOFi2A8LXBLwF0I1HFO0+5P",
      "include_colab_link": true
    },
    "kernelspec": {
      "name": "python3",
      "display_name": "Python 3"
    },
    "language_info": {
      "name": "python"
    }
  },
  "cells": [
    {
      "cell_type": "markdown",
      "metadata": {
        "id": "view-in-github",
        "colab_type": "text"
      },
      "source": [
        "<a href=\"https://colab.research.google.com/github/Hameon4/Tensorflow-2.0-Practice/blob/main/EBTIC_Advanced_AI_training.ipynb\" target=\"_parent\"><img src=\"https://colab.research.google.com/assets/colab-badge.svg\" alt=\"Open In Colab\"/></a>"
      ]
    },
    {
      "cell_type": "code",
      "execution_count": 86,
      "metadata": {
        "id": "cqG53AGS9RTF"
      },
      "outputs": [],
      "source": [
        "import tensorflow as tf\n",
        "import numpy as np\n",
        "import pandas as pd\n",
        "from sklearn.preprocessing import OneHotEncoder\n",
        "import matplotlib.pyplot as plt\n",
        "from sklearn.model_selection import train_test_split"
      ]
    },
    {
      "cell_type": "code",
      "source": [
        "!wget https://raw.githubusercontent.com/Hameon4/Exfiltration-dataset/main/exfil_monogram.csv"
      ],
      "metadata": {
        "colab": {
          "base_uri": "https://localhost:8080/"
        },
        "id": "fBge3ww30NDd",
        "outputId": "7d436d95-6ba8-4f75-fb46-62f083d5aa54"
      },
      "execution_count": 87,
      "outputs": [
        {
          "output_type": "stream",
          "name": "stdout",
          "text": [
            "--2022-07-26 06:33:00--  https://raw.githubusercontent.com/Hameon4/Exfiltration-dataset/main/exfil_monogram.csv\n",
            "Resolving raw.githubusercontent.com (raw.githubusercontent.com)... 185.199.108.133, 185.199.109.133, 185.199.110.133, ...\n",
            "Connecting to raw.githubusercontent.com (raw.githubusercontent.com)|185.199.108.133|:443... connected.\n",
            "HTTP request sent, awaiting response... 200 OK\n",
            "Length: 1660489 (1.6M) [text/plain]\n",
            "Saving to: ‘exfil_monogram.csv.1’\n",
            "\n",
            "exfil_monogram.csv. 100%[===================>]   1.58M  --.-KB/s    in 0.06s   \n",
            "\n",
            "2022-07-26 06:33:00 (27.2 MB/s) - ‘exfil_monogram.csv.1’ saved [1660489/1660489]\n",
            "\n"
          ]
        }
      ]
    },
    {
      "cell_type": "code",
      "source": [
        "# Load in the data \n",
        "df = pd.read_csv('/content/exfil_monogram.csv')"
      ],
      "metadata": {
        "id": "M-FWYZW0kq9N"
      },
      "execution_count": 88,
      "outputs": []
    },
    {
      "cell_type": "code",
      "source": [
        "df"
      ],
      "metadata": {
        "colab": {
          "base_uri": "https://localhost:8080/",
          "height": 488
        },
        "id": "dVp0DhVEOlKz",
        "outputId": "96969e14-aa9e-45c7-90a9-95b70b124f64"
      },
      "execution_count": 89,
      "outputs": [
        {
          "output_type": "execute_result",
          "data": {
            "text/plain": [
              "      epoll_pwait  futex  getuid  ioctl  read  mprotect  write  clock_gettime  \\\n",
              "0             248    102     295    187    36        29    115             12   \n",
              "1             423    217     393    253   104        31    317             13   \n",
              "2              31     18      58     83     4         1      4              0   \n",
              "3              31     20      60     85     4         2      9              0   \n",
              "4              31     19      64     96     4         2      5              0   \n",
              "...           ...    ...     ...    ...   ...       ...    ...            ...   \n",
              "6136           61    103       0     35    48        12     70           1019   \n",
              "6137            2     33       1      1     3        15      2              0   \n",
              "6138          158     80       0    199    71        21     85           1146   \n",
              "6139           52     12       0     26    13         5     38            291   \n",
              "6140            0     23       0      0     2        10      2              0   \n",
              "\n",
              "      madvise  writev  ...  personality  set_tls  capget  fstatfs64  \\\n",
              "0         104      37  ...            0        0       0          0   \n",
              "1          17      38  ...            0        0       0          0   \n",
              "2           0       1  ...            0        0       0          0   \n",
              "3           0       1  ...            0        0       0          0   \n",
              "4           0       1  ...            0        0       0          0   \n",
              "...       ...     ...  ...          ...      ...     ...        ...   \n",
              "6136        1       5  ...            0        0       0          0   \n",
              "6137        2       0  ...            0        0       0          0   \n",
              "6138        4      10  ...            0        0       0          0   \n",
              "6139        1       5  ...            0        0       0          0   \n",
              "6140        2       0  ...            0        0       0          0   \n",
              "\n",
              "      getegid32  getgid32  getgroups32  ptrace  setsid  Label  \n",
              "0             0         0            0       0       0      0  \n",
              "1             0         0            0       0       0      0  \n",
              "2             0         0            0       0       0      0  \n",
              "3             0         0            0       0       0      0  \n",
              "4             0         0            0       0       0      0  \n",
              "...         ...       ...          ...     ...     ...    ...  \n",
              "6136          0         0            0       0       0      1  \n",
              "6137          0         0            0       0       0      1  \n",
              "6138          0         0            0       0       0      1  \n",
              "6139          0         0            0       0       0      1  \n",
              "6140          0         0            0       0       0      1  \n",
              "\n",
              "[6141 rows x 121 columns]"
            ],
            "text/html": [
              "\n",
              "  <div id=\"df-eac12f3e-f28b-4065-b63d-85a653bb9561\">\n",
              "    <div class=\"colab-df-container\">\n",
              "      <div>\n",
              "<style scoped>\n",
              "    .dataframe tbody tr th:only-of-type {\n",
              "        vertical-align: middle;\n",
              "    }\n",
              "\n",
              "    .dataframe tbody tr th {\n",
              "        vertical-align: top;\n",
              "    }\n",
              "\n",
              "    .dataframe thead th {\n",
              "        text-align: right;\n",
              "    }\n",
              "</style>\n",
              "<table border=\"1\" class=\"dataframe\">\n",
              "  <thead>\n",
              "    <tr style=\"text-align: right;\">\n",
              "      <th></th>\n",
              "      <th>epoll_pwait</th>\n",
              "      <th>futex</th>\n",
              "      <th>getuid</th>\n",
              "      <th>ioctl</th>\n",
              "      <th>read</th>\n",
              "      <th>mprotect</th>\n",
              "      <th>write</th>\n",
              "      <th>clock_gettime</th>\n",
              "      <th>madvise</th>\n",
              "      <th>writev</th>\n",
              "      <th>...</th>\n",
              "      <th>personality</th>\n",
              "      <th>set_tls</th>\n",
              "      <th>capget</th>\n",
              "      <th>fstatfs64</th>\n",
              "      <th>getegid32</th>\n",
              "      <th>getgid32</th>\n",
              "      <th>getgroups32</th>\n",
              "      <th>ptrace</th>\n",
              "      <th>setsid</th>\n",
              "      <th>Label</th>\n",
              "    </tr>\n",
              "  </thead>\n",
              "  <tbody>\n",
              "    <tr>\n",
              "      <th>0</th>\n",
              "      <td>248</td>\n",
              "      <td>102</td>\n",
              "      <td>295</td>\n",
              "      <td>187</td>\n",
              "      <td>36</td>\n",
              "      <td>29</td>\n",
              "      <td>115</td>\n",
              "      <td>12</td>\n",
              "      <td>104</td>\n",
              "      <td>37</td>\n",
              "      <td>...</td>\n",
              "      <td>0</td>\n",
              "      <td>0</td>\n",
              "      <td>0</td>\n",
              "      <td>0</td>\n",
              "      <td>0</td>\n",
              "      <td>0</td>\n",
              "      <td>0</td>\n",
              "      <td>0</td>\n",
              "      <td>0</td>\n",
              "      <td>0</td>\n",
              "    </tr>\n",
              "    <tr>\n",
              "      <th>1</th>\n",
              "      <td>423</td>\n",
              "      <td>217</td>\n",
              "      <td>393</td>\n",
              "      <td>253</td>\n",
              "      <td>104</td>\n",
              "      <td>31</td>\n",
              "      <td>317</td>\n",
              "      <td>13</td>\n",
              "      <td>17</td>\n",
              "      <td>38</td>\n",
              "      <td>...</td>\n",
              "      <td>0</td>\n",
              "      <td>0</td>\n",
              "      <td>0</td>\n",
              "      <td>0</td>\n",
              "      <td>0</td>\n",
              "      <td>0</td>\n",
              "      <td>0</td>\n",
              "      <td>0</td>\n",
              "      <td>0</td>\n",
              "      <td>0</td>\n",
              "    </tr>\n",
              "    <tr>\n",
              "      <th>2</th>\n",
              "      <td>31</td>\n",
              "      <td>18</td>\n",
              "      <td>58</td>\n",
              "      <td>83</td>\n",
              "      <td>4</td>\n",
              "      <td>1</td>\n",
              "      <td>4</td>\n",
              "      <td>0</td>\n",
              "      <td>0</td>\n",
              "      <td>1</td>\n",
              "      <td>...</td>\n",
              "      <td>0</td>\n",
              "      <td>0</td>\n",
              "      <td>0</td>\n",
              "      <td>0</td>\n",
              "      <td>0</td>\n",
              "      <td>0</td>\n",
              "      <td>0</td>\n",
              "      <td>0</td>\n",
              "      <td>0</td>\n",
              "      <td>0</td>\n",
              "    </tr>\n",
              "    <tr>\n",
              "      <th>3</th>\n",
              "      <td>31</td>\n",
              "      <td>20</td>\n",
              "      <td>60</td>\n",
              "      <td>85</td>\n",
              "      <td>4</td>\n",
              "      <td>2</td>\n",
              "      <td>9</td>\n",
              "      <td>0</td>\n",
              "      <td>0</td>\n",
              "      <td>1</td>\n",
              "      <td>...</td>\n",
              "      <td>0</td>\n",
              "      <td>0</td>\n",
              "      <td>0</td>\n",
              "      <td>0</td>\n",
              "      <td>0</td>\n",
              "      <td>0</td>\n",
              "      <td>0</td>\n",
              "      <td>0</td>\n",
              "      <td>0</td>\n",
              "      <td>0</td>\n",
              "    </tr>\n",
              "    <tr>\n",
              "      <th>4</th>\n",
              "      <td>31</td>\n",
              "      <td>19</td>\n",
              "      <td>64</td>\n",
              "      <td>96</td>\n",
              "      <td>4</td>\n",
              "      <td>2</td>\n",
              "      <td>5</td>\n",
              "      <td>0</td>\n",
              "      <td>0</td>\n",
              "      <td>1</td>\n",
              "      <td>...</td>\n",
              "      <td>0</td>\n",
              "      <td>0</td>\n",
              "      <td>0</td>\n",
              "      <td>0</td>\n",
              "      <td>0</td>\n",
              "      <td>0</td>\n",
              "      <td>0</td>\n",
              "      <td>0</td>\n",
              "      <td>0</td>\n",
              "      <td>0</td>\n",
              "    </tr>\n",
              "    <tr>\n",
              "      <th>...</th>\n",
              "      <td>...</td>\n",
              "      <td>...</td>\n",
              "      <td>...</td>\n",
              "      <td>...</td>\n",
              "      <td>...</td>\n",
              "      <td>...</td>\n",
              "      <td>...</td>\n",
              "      <td>...</td>\n",
              "      <td>...</td>\n",
              "      <td>...</td>\n",
              "      <td>...</td>\n",
              "      <td>...</td>\n",
              "      <td>...</td>\n",
              "      <td>...</td>\n",
              "      <td>...</td>\n",
              "      <td>...</td>\n",
              "      <td>...</td>\n",
              "      <td>...</td>\n",
              "      <td>...</td>\n",
              "      <td>...</td>\n",
              "      <td>...</td>\n",
              "    </tr>\n",
              "    <tr>\n",
              "      <th>6136</th>\n",
              "      <td>61</td>\n",
              "      <td>103</td>\n",
              "      <td>0</td>\n",
              "      <td>35</td>\n",
              "      <td>48</td>\n",
              "      <td>12</td>\n",
              "      <td>70</td>\n",
              "      <td>1019</td>\n",
              "      <td>1</td>\n",
              "      <td>5</td>\n",
              "      <td>...</td>\n",
              "      <td>0</td>\n",
              "      <td>0</td>\n",
              "      <td>0</td>\n",
              "      <td>0</td>\n",
              "      <td>0</td>\n",
              "      <td>0</td>\n",
              "      <td>0</td>\n",
              "      <td>0</td>\n",
              "      <td>0</td>\n",
              "      <td>1</td>\n",
              "    </tr>\n",
              "    <tr>\n",
              "      <th>6137</th>\n",
              "      <td>2</td>\n",
              "      <td>33</td>\n",
              "      <td>1</td>\n",
              "      <td>1</td>\n",
              "      <td>3</td>\n",
              "      <td>15</td>\n",
              "      <td>2</td>\n",
              "      <td>0</td>\n",
              "      <td>2</td>\n",
              "      <td>0</td>\n",
              "      <td>...</td>\n",
              "      <td>0</td>\n",
              "      <td>0</td>\n",
              "      <td>0</td>\n",
              "      <td>0</td>\n",
              "      <td>0</td>\n",
              "      <td>0</td>\n",
              "      <td>0</td>\n",
              "      <td>0</td>\n",
              "      <td>0</td>\n",
              "      <td>1</td>\n",
              "    </tr>\n",
              "    <tr>\n",
              "      <th>6138</th>\n",
              "      <td>158</td>\n",
              "      <td>80</td>\n",
              "      <td>0</td>\n",
              "      <td>199</td>\n",
              "      <td>71</td>\n",
              "      <td>21</td>\n",
              "      <td>85</td>\n",
              "      <td>1146</td>\n",
              "      <td>4</td>\n",
              "      <td>10</td>\n",
              "      <td>...</td>\n",
              "      <td>0</td>\n",
              "      <td>0</td>\n",
              "      <td>0</td>\n",
              "      <td>0</td>\n",
              "      <td>0</td>\n",
              "      <td>0</td>\n",
              "      <td>0</td>\n",
              "      <td>0</td>\n",
              "      <td>0</td>\n",
              "      <td>1</td>\n",
              "    </tr>\n",
              "    <tr>\n",
              "      <th>6139</th>\n",
              "      <td>52</td>\n",
              "      <td>12</td>\n",
              "      <td>0</td>\n",
              "      <td>26</td>\n",
              "      <td>13</td>\n",
              "      <td>5</td>\n",
              "      <td>38</td>\n",
              "      <td>291</td>\n",
              "      <td>1</td>\n",
              "      <td>5</td>\n",
              "      <td>...</td>\n",
              "      <td>0</td>\n",
              "      <td>0</td>\n",
              "      <td>0</td>\n",
              "      <td>0</td>\n",
              "      <td>0</td>\n",
              "      <td>0</td>\n",
              "      <td>0</td>\n",
              "      <td>0</td>\n",
              "      <td>0</td>\n",
              "      <td>1</td>\n",
              "    </tr>\n",
              "    <tr>\n",
              "      <th>6140</th>\n",
              "      <td>0</td>\n",
              "      <td>23</td>\n",
              "      <td>0</td>\n",
              "      <td>0</td>\n",
              "      <td>2</td>\n",
              "      <td>10</td>\n",
              "      <td>2</td>\n",
              "      <td>0</td>\n",
              "      <td>2</td>\n",
              "      <td>0</td>\n",
              "      <td>...</td>\n",
              "      <td>0</td>\n",
              "      <td>0</td>\n",
              "      <td>0</td>\n",
              "      <td>0</td>\n",
              "      <td>0</td>\n",
              "      <td>0</td>\n",
              "      <td>0</td>\n",
              "      <td>0</td>\n",
              "      <td>0</td>\n",
              "      <td>1</td>\n",
              "    </tr>\n",
              "  </tbody>\n",
              "</table>\n",
              "<p>6141 rows × 121 columns</p>\n",
              "</div>\n",
              "      <button class=\"colab-df-convert\" onclick=\"convertToInteractive('df-eac12f3e-f28b-4065-b63d-85a653bb9561')\"\n",
              "              title=\"Convert this dataframe to an interactive table.\"\n",
              "              style=\"display:none;\">\n",
              "        \n",
              "  <svg xmlns=\"http://www.w3.org/2000/svg\" height=\"24px\"viewBox=\"0 0 24 24\"\n",
              "       width=\"24px\">\n",
              "    <path d=\"M0 0h24v24H0V0z\" fill=\"none\"/>\n",
              "    <path d=\"M18.56 5.44l.94 2.06.94-2.06 2.06-.94-2.06-.94-.94-2.06-.94 2.06-2.06.94zm-11 1L8.5 8.5l.94-2.06 2.06-.94-2.06-.94L8.5 2.5l-.94 2.06-2.06.94zm10 10l.94 2.06.94-2.06 2.06-.94-2.06-.94-.94-2.06-.94 2.06-2.06.94z\"/><path d=\"M17.41 7.96l-1.37-1.37c-.4-.4-.92-.59-1.43-.59-.52 0-1.04.2-1.43.59L10.3 9.45l-7.72 7.72c-.78.78-.78 2.05 0 2.83L4 21.41c.39.39.9.59 1.41.59.51 0 1.02-.2 1.41-.59l7.78-7.78 2.81-2.81c.8-.78.8-2.07 0-2.86zM5.41 20L4 18.59l7.72-7.72 1.47 1.35L5.41 20z\"/>\n",
              "  </svg>\n",
              "      </button>\n",
              "      \n",
              "  <style>\n",
              "    .colab-df-container {\n",
              "      display:flex;\n",
              "      flex-wrap:wrap;\n",
              "      gap: 12px;\n",
              "    }\n",
              "\n",
              "    .colab-df-convert {\n",
              "      background-color: #E8F0FE;\n",
              "      border: none;\n",
              "      border-radius: 50%;\n",
              "      cursor: pointer;\n",
              "      display: none;\n",
              "      fill: #1967D2;\n",
              "      height: 32px;\n",
              "      padding: 0 0 0 0;\n",
              "      width: 32px;\n",
              "    }\n",
              "\n",
              "    .colab-df-convert:hover {\n",
              "      background-color: #E2EBFA;\n",
              "      box-shadow: 0px 1px 2px rgba(60, 64, 67, 0.3), 0px 1px 3px 1px rgba(60, 64, 67, 0.15);\n",
              "      fill: #174EA6;\n",
              "    }\n",
              "\n",
              "    [theme=dark] .colab-df-convert {\n",
              "      background-color: #3B4455;\n",
              "      fill: #D2E3FC;\n",
              "    }\n",
              "\n",
              "    [theme=dark] .colab-df-convert:hover {\n",
              "      background-color: #434B5C;\n",
              "      box-shadow: 0px 1px 3px 1px rgba(0, 0, 0, 0.15);\n",
              "      filter: drop-shadow(0px 1px 2px rgba(0, 0, 0, 0.3));\n",
              "      fill: #FFFFFF;\n",
              "    }\n",
              "  </style>\n",
              "\n",
              "      <script>\n",
              "        const buttonEl =\n",
              "          document.querySelector('#df-eac12f3e-f28b-4065-b63d-85a653bb9561 button.colab-df-convert');\n",
              "        buttonEl.style.display =\n",
              "          google.colab.kernel.accessAllowed ? 'block' : 'none';\n",
              "\n",
              "        async function convertToInteractive(key) {\n",
              "          const element = document.querySelector('#df-eac12f3e-f28b-4065-b63d-85a653bb9561');\n",
              "          const dataTable =\n",
              "            await google.colab.kernel.invokeFunction('convertToInteractive',\n",
              "                                                     [key], {});\n",
              "          if (!dataTable) return;\n",
              "\n",
              "          const docLinkHtml = 'Like what you see? Visit the ' +\n",
              "            '<a target=\"_blank\" href=https://colab.research.google.com/notebooks/data_table.ipynb>data table notebook</a>'\n",
              "            + ' to learn more about interactive tables.';\n",
              "          element.innerHTML = '';\n",
              "          dataTable['output_type'] = 'display_data';\n",
              "          await google.colab.output.renderOutput(dataTable, element);\n",
              "          const docLink = document.createElement('div');\n",
              "          docLink.innerHTML = docLinkHtml;\n",
              "          element.appendChild(docLink);\n",
              "        }\n",
              "      </script>\n",
              "    </div>\n",
              "  </div>\n",
              "  "
            ]
          },
          "metadata": {},
          "execution_count": 89
        }
      ]
    },
    {
      "cell_type": "code",
      "source": [
        "X = df.drop(columns = ['Label']).copy()\n",
        "y = df['Label']\n",
        "\n",
        "X_train, X_test, y_train, y_test = train_test_split(X, y, train_size=0.8)\n",
        "\n",
        "#Validation SPlit\n",
        "X_valid, X__sub_test, y_valid, y_sub_test = train_test_split(X_test,y_test, test_size=0.5)"
      ],
      "metadata": {
        "id": "zBxi53HM9zss"
      },
      "execution_count": 90,
      "outputs": []
    },
    {
      "cell_type": "code",
      "source": [
        "y_test"
      ],
      "metadata": {
        "id": "BOftQFK5fRzC",
        "outputId": "63cf1252-644f-4a3f-96b4-8d6da7d482c9",
        "colab": {
          "base_uri": "https://localhost:8080/"
        }
      },
      "execution_count": 140,
      "outputs": [
        {
          "output_type": "execute_result",
          "data": {
            "text/plain": [
              "395     0\n",
              "4272    1\n",
              "3109    0\n",
              "1968    0\n",
              "3064    0\n",
              "       ..\n",
              "4541    1\n",
              "485     0\n",
              "1729    0\n",
              "2071    0\n",
              "5073    1\n",
              "Name: Label, Length: 1229, dtype: int64"
            ]
          },
          "metadata": {},
          "execution_count": 140
        }
      ]
    },
    {
      "cell_type": "code",
      "source": [
        "D = df.shape"
      ],
      "metadata": {
        "id": "uqNIzyu208Pd"
      },
      "execution_count": 91,
      "outputs": []
    },
    {
      "cell_type": "code",
      "source": [
        "# 2 - Build/Instantiate the model \n",
        "model = tf.keras.models.Sequential([\n",
        "  tf.keras.layers.Input(shape=(120, 1)),\n",
        "  tf.keras.layers.Conv1D(1, 70, 5),\n",
        "  tf.keras.layers.MaxPool1D(),\n",
        "  tf.keras.layers.Flatten(name='regions'),\n",
        "  tf.keras.layers.Dense(1, activation='sigmoid'),\n",
        "])\n",
        "model.compile(optimizer='adam', loss='binary_crossentropy', metrics=['accuracy'])"
      ],
      "metadata": {
        "id": "JQ9ichdcOnt1"
      },
      "execution_count": 92,
      "outputs": []
    },
    {
      "cell_type": "code",
      "source": [
        "model.summary()"
      ],
      "metadata": {
        "colab": {
          "base_uri": "https://localhost:8080/"
        },
        "id": "MtBw1EdmOxf9",
        "outputId": "31b3dd6d-65c3-4eb3-96cc-5123f0203853"
      },
      "execution_count": 93,
      "outputs": [
        {
          "output_type": "stream",
          "name": "stdout",
          "text": [
            "Model: \"sequential_8\"\n",
            "_________________________________________________________________\n",
            " Layer (type)                Output Shape              Param #   \n",
            "=================================================================\n",
            " conv1d_10 (Conv1D)          (None, 11, 1)             71        \n",
            "                                                                 \n",
            " max_pooling1d_10 (MaxPoolin  (None, 5, 1)             0         \n",
            " g1D)                                                            \n",
            "                                                                 \n",
            " regions (Flatten)           (None, 5)                 0         \n",
            "                                                                 \n",
            " dense_9 (Dense)             (None, 1)                 6         \n",
            "                                                                 \n",
            "=================================================================\n",
            "Total params: 77\n",
            "Trainable params: 77\n",
            "Non-trainable params: 0\n",
            "_________________________________________________________________\n"
          ]
        }
      ]
    },
    {
      "cell_type": "code",
      "source": [
        "# Train the model \n",
        "r = model.fit(X_train, y_train, validation_data=(X_valid, y_valid), epochs=20)"
      ],
      "metadata": {
        "colab": {
          "base_uri": "https://localhost:8080/"
        },
        "id": "L4Rd8a23O8SB",
        "outputId": "a386598a-5e90-4ac9-87c2-0ca6c4a2fef5"
      },
      "execution_count": 94,
      "outputs": [
        {
          "output_type": "stream",
          "name": "stdout",
          "text": [
            "Epoch 1/20\n",
            "154/154 [==============================] - 3s 11ms/step - loss: 181.0271 - accuracy: 0.5159 - val_loss: 29.7559 - val_accuracy: 0.5554\n",
            "Epoch 2/20\n",
            "154/154 [==============================] - 1s 6ms/step - loss: 11.1976 - accuracy: 0.6952 - val_loss: 3.8096 - val_accuracy: 0.7964\n",
            "Epoch 3/20\n",
            "154/154 [==============================] - 1s 7ms/step - loss: 3.0640 - accuracy: 0.8327 - val_loss: 2.2182 - val_accuracy: 0.8518\n",
            "Epoch 4/20\n",
            "154/154 [==============================] - 1s 6ms/step - loss: 2.1267 - accuracy: 0.8715 - val_loss: 1.6553 - val_accuracy: 0.8762\n",
            "Epoch 5/20\n",
            "154/154 [==============================] - 1s 6ms/step - loss: 1.5842 - accuracy: 0.8907 - val_loss: 1.2328 - val_accuracy: 0.8990\n",
            "Epoch 6/20\n",
            "154/154 [==============================] - 1s 5ms/step - loss: 1.1229 - accuracy: 0.8976 - val_loss: 0.8959 - val_accuracy: 0.9007\n",
            "Epoch 7/20\n",
            "154/154 [==============================] - 1s 6ms/step - loss: 0.8477 - accuracy: 0.9000 - val_loss: 0.8450 - val_accuracy: 0.8909\n",
            "Epoch 8/20\n",
            "154/154 [==============================] - 1s 7ms/step - loss: 0.6908 - accuracy: 0.8966 - val_loss: 0.6605 - val_accuracy: 0.9055\n",
            "Epoch 9/20\n",
            "154/154 [==============================] - 1s 6ms/step - loss: 0.5869 - accuracy: 0.9035 - val_loss: 0.5722 - val_accuracy: 0.9088\n",
            "Epoch 10/20\n",
            "154/154 [==============================] - 1s 6ms/step - loss: 0.4971 - accuracy: 0.9078 - val_loss: 0.5078 - val_accuracy: 0.9153\n",
            "Epoch 11/20\n",
            "154/154 [==============================] - 0s 3ms/step - loss: 0.4526 - accuracy: 0.9110 - val_loss: 0.4570 - val_accuracy: 0.9251\n",
            "Epoch 12/20\n",
            "154/154 [==============================] - 0s 3ms/step - loss: 0.4084 - accuracy: 0.9151 - val_loss: 0.3966 - val_accuracy: 0.9267\n",
            "Epoch 13/20\n",
            "154/154 [==============================] - 0s 3ms/step - loss: 0.3763 - accuracy: 0.9230 - val_loss: 0.3682 - val_accuracy: 0.9332\n",
            "Epoch 14/20\n",
            "154/154 [==============================] - 0s 3ms/step - loss: 0.3447 - accuracy: 0.9273 - val_loss: 0.3533 - val_accuracy: 0.9316\n",
            "Epoch 15/20\n",
            "154/154 [==============================] - 0s 3ms/step - loss: 0.3268 - accuracy: 0.9314 - val_loss: 0.3206 - val_accuracy: 0.9365\n",
            "Epoch 16/20\n",
            "154/154 [==============================] - 0s 3ms/step - loss: 0.3060 - accuracy: 0.9375 - val_loss: 0.3144 - val_accuracy: 0.9381\n",
            "Epoch 17/20\n",
            "154/154 [==============================] - 0s 3ms/step - loss: 0.3036 - accuracy: 0.9420 - val_loss: 0.2775 - val_accuracy: 0.9365\n",
            "Epoch 18/20\n",
            "154/154 [==============================] - 0s 3ms/step - loss: 0.2982 - accuracy: 0.9471 - val_loss: 0.2712 - val_accuracy: 0.9495\n",
            "Epoch 19/20\n",
            "154/154 [==============================] - 0s 3ms/step - loss: 0.2654 - accuracy: 0.9507 - val_loss: 0.2538 - val_accuracy: 0.9479\n",
            "Epoch 20/20\n",
            "154/154 [==============================] - 0s 3ms/step - loss: 0.2523 - accuracy: 0.9485 - val_loss: 0.2357 - val_accuracy: 0.9479\n"
          ]
        }
      ]
    },
    {
      "cell_type": "code",
      "source": [
        "# Plot loss per iteration\n",
        "plt.plot(r.history['loss'], label='loss')\n",
        "plt.plot(r.history['val_loss'], label='val_loss')\n",
        "plt.legend();"
      ],
      "metadata": {
        "colab": {
          "base_uri": "https://localhost:8080/",
          "height": 265
        },
        "id": "pVorACKXPHaf",
        "outputId": "ad983836-7843-4371-cefa-89534ea01ad7"
      },
      "execution_count": 133,
      "outputs": [
        {
          "output_type": "display_data",
          "data": {
            "text/plain": [
              "<Figure size 432x288 with 1 Axes>"
            ],
            "image/png": "[encoded data removed]"
          },
          "metadata": {
            "needs_background": "light"
          }
        }
      ]
    },
    {
      "cell_type": "code",
      "source": [
        "# Plot the accuracy per iteration\n",
        "plt.plot(r.history['accuracy'], label='acc')\n",
        "plt.plot(r.history['val_accuracy'], label='val_acc')\n",
        "plt.legend();"
      ],
      "metadata": {
        "id": "RY-z3D2NHdWR",
        "outputId": "4ab24af5-ae24-4318-920d-9d7c282e14c5",
        "colab": {
          "base_uri": "https://localhost:8080/",
          "height": 265
        }
      },
      "execution_count": 96,
      "outputs": [
        {
          "output_type": "display_data",
          "data": {
            "text/plain": [
              "<Figure size 432x288 with 1 Axes>"
            ],
            "image/png": "[encoded data removed]"
          },
          "metadata": {
            "needs_background": "light"
          }
        }
      ]
    },
    {
      "cell_type": "code",
      "source": [
        "#  evaluate\n",
        "print(model.evaluate(X_valid, y_valid))"
      ],
      "metadata": {
        "colab": {
          "base_uri": "https://localhost:8080/"
        },
        "id": "KmSyIa_2Gg5u",
        "outputId": "418918c8-3398-40bb-ba06-36a594cf7f72"
      },
      "execution_count": 97,
      "outputs": [
        {
          "output_type": "stream",
          "name": "stdout",
          "text": [
            "20/20 [==============================] - 0s 2ms/step - loss: 0.2357 - accuracy: 0.9479\n",
            "[0.23566024005413055, 0.9478827118873596]\n"
          ]
        }
      ]
    },
    {
      "cell_type": "code",
      "source": [
        "# Plot confusion matrix\n",
        "from sklearn.metrics import confusion_matrix, ConfusionMatrixDisplay, accuracy_score, precision_score, recall_score, f1_score\n",
        "\n",
        "p_test = model.predict(X_valid) > 0.5 # if less, benign, and malign vice versa\n",
        "cm = confusion_matrix(y_valid, p_test)\n",
        "disp = ConfusionMatrixDisplay(confusion_matrix=cm)\n",
        "disp.plot()\n",
        "plt.show()\n",
        "\n",
        "# Print details\n",
        "print('\\n\\n\\n\\n')\n",
        "print(f'The accuracy is: {accuracy_score(y_valid, p_test)}')\n",
        "print(f'The precision is: {precision_score(y_valid, p_test, zero_division=1)}')\n",
        "print(f'The recall is: {recall_score(y_valid, p_test)}')\n",
        "print(f'The f1 score is: {f1_score(y_valid, p_test)}')"
      ],
      "metadata": {
        "id": "IJNqfuSAH15k",
        "outputId": "a6f3c669-67c9-440a-81c2-375e98bdb926",
        "colab": {
          "base_uri": "https://localhost:8080/",
          "height": 436
        }
      },
      "execution_count": 142,
      "outputs": [
        {
          "output_type": "display_data",
          "data": {
            "text/plain": [
              "<Figure size 432x288 with 2 Axes>"
            ],
            "image/png": "[encoded data removed]"
          },
          "metadata": {
            "needs_background": "light"
          }
        },
        {
          "output_type": "stream",
          "name": "stdout",
          "text": [
            "\n",
            "\n",
            "\n",
            "\n",
            "\n",
            "The accuracy is: 0.9478827361563518\n",
            "The precision is: 0.9266666666666666\n",
            "The recall is: 0.9652777777777778\n",
            "The f1 score is: 0.9455782312925171\n"
          ]
        }
      ]
    },
    {
      "cell_type": "code",
      "source": [
        "# Dimensionality reduction with PCA\n"
      ],
      "metadata": {
        "id": "U3p-yDFDeTrJ"
      },
      "execution_count": null,
      "outputs": []
    }
  ]
}